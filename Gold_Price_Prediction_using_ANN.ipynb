{
 "cells": [
  {
   "cell_type": "code",
   "execution_count": 1,
   "id": "experienced-physiology",
   "metadata": {
    "ExecuteTime": {
     "end_time": "2024-01-26T04:56:36.638565Z",
     "start_time": "2024-01-26T04:56:30.840699Z"
    }
   },
   "outputs": [],
   "source": [
    "#importing the requirelibraies\n",
    "import pandas as pd\n",
    "import numpy as np\n",
    "from sklearn.model_selection import train_test_split\n",
    "from sklearn.preprocessing import StandardScaler\n",
    "from sklearn.preprocessing import MinMaxScaler"
   ]
  },
  {
   "cell_type": "code",
   "execution_count": 14,
   "id": "major-married",
   "metadata": {
    "ExecuteTime": {
     "end_time": "2024-01-26T05:01:51.628847Z",
     "start_time": "2024-01-26T05:01:51.609404Z"
    }
   },
   "outputs": [],
   "source": [
    "# importing the deep learnig libraries\n",
    "import tensorflow as tf\n",
    "from tensorflow import keras\n",
    "from tensorflow.keras import Sequential\n",
    "from tensorflow.keras.layers import Dense"
   ]
  },
  {
   "cell_type": "code",
   "execution_count": 2,
   "id": "valued-devon",
   "metadata": {
    "ExecuteTime": {
     "end_time": "2024-01-26T04:58:03.439426Z",
     "start_time": "2024-01-26T04:58:03.312659Z"
    }
   },
   "outputs": [],
   "source": [
    "#loding the data\n",
    "df = pd.read_csv(r'C:\\Users\\bhara\\Downloads\\gld_price_data.csv')"
   ]
  },
  {
   "cell_type": "code",
   "execution_count": 3,
   "id": "northern-drunk",
   "metadata": {
    "ExecuteTime": {
     "end_time": "2024-01-26T04:58:30.773169Z",
     "start_time": "2024-01-26T04:58:30.708911Z"
    }
   },
   "outputs": [
    {
     "data": {
      "text/html": [
       "<div>\n",
       "<style scoped>\n",
       "    .dataframe tbody tr th:only-of-type {\n",
       "        vertical-align: middle;\n",
       "    }\n",
       "\n",
       "    .dataframe tbody tr th {\n",
       "        vertical-align: top;\n",
       "    }\n",
       "\n",
       "    .dataframe thead th {\n",
       "        text-align: right;\n",
       "    }\n",
       "</style>\n",
       "<table border=\"1\" class=\"dataframe\">\n",
       "  <thead>\n",
       "    <tr style=\"text-align: right;\">\n",
       "      <th></th>\n",
       "      <th>Date</th>\n",
       "      <th>SPX</th>\n",
       "      <th>GLD</th>\n",
       "      <th>USO</th>\n",
       "      <th>SLV</th>\n",
       "      <th>EUR/USD</th>\n",
       "    </tr>\n",
       "  </thead>\n",
       "  <tbody>\n",
       "    <tr>\n",
       "      <th>1712</th>\n",
       "      <td>10/15/2015</td>\n",
       "      <td>2023.859985</td>\n",
       "      <td>113.290001</td>\n",
       "      <td>15.13</td>\n",
       "      <td>15.39</td>\n",
       "      <td>1.136816</td>\n",
       "    </tr>\n",
       "  </tbody>\n",
       "</table>\n",
       "</div>"
      ],
      "text/plain": [
       "            Date          SPX         GLD    USO    SLV   EUR/USD\n",
       "1712  10/15/2015  2023.859985  113.290001  15.13  15.39  1.136816"
      ]
     },
     "execution_count": 3,
     "metadata": {},
     "output_type": "execute_result"
    }
   ],
   "source": [
    "# knowing the sample of data\n",
    "df.sample()"
   ]
  },
  {
   "cell_type": "code",
   "execution_count": 4,
   "id": "twelve-hotel",
   "metadata": {
    "ExecuteTime": {
     "end_time": "2024-01-26T04:59:08.236387Z",
     "start_time": "2024-01-26T04:59:08.220513Z"
    }
   },
   "outputs": [],
   "source": [
    "# spliting the data target variable\n",
    "X = df[['SPX','USO','SLV','EUR/USD']]\n",
    "y = df['GLD']"
   ]
  },
  {
   "cell_type": "code",
   "execution_count": 5,
   "id": "correct-county",
   "metadata": {
    "ExecuteTime": {
     "end_time": "2024-01-26T04:59:37.241854Z",
     "start_time": "2024-01-26T04:59:37.228225Z"
    }
   },
   "outputs": [],
   "source": [
    "# splitng the data into train and test for ANN model\n",
    "X_train,X_test,y_train,y_test = train_test_split(X,y,test_size=0.2)"
   ]
  },
  {
   "cell_type": "code",
   "execution_count": 7,
   "id": "wanted-mistress",
   "metadata": {
    "ExecuteTime": {
     "end_time": "2024-01-26T05:00:12.106791Z",
     "start_time": "2024-01-26T05:00:12.100385Z"
    }
   },
   "outputs": [],
   "source": [
    "# scaling the data beacuse better perfomance\n",
    "scaler = MinMaxScaler()"
   ]
  },
  {
   "cell_type": "code",
   "execution_count": 8,
   "id": "irish-corpus",
   "metadata": {
    "ExecuteTime": {
     "end_time": "2024-01-26T05:00:12.773675Z",
     "start_time": "2024-01-26T05:00:12.753386Z"
    }
   },
   "outputs": [],
   "source": [
    "X_train_scaled = scaler.fit_transform(X_train)\n",
    "X_test_scaled = scaler.transform(X_test)"
   ]
  },
  {
   "cell_type": "code",
   "execution_count": 11,
   "id": "ddc8f0d0",
   "metadata": {
    "ExecuteTime": {
     "end_time": "2024-01-26T05:01:24.334024Z",
     "start_time": "2024-01-26T05:01:14.133543Z"
    }
   },
   "outputs": [],
   "source": [
    "from tensorflow.keras import Sequential"
   ]
  },
  {
   "cell_type": "code",
   "execution_count": 12,
   "id": "loose-backing",
   "metadata": {
    "ExecuteTime": {
     "end_time": "2024-01-26T05:01:42.132080Z",
     "start_time": "2024-01-26T05:01:41.898806Z"
    }
   },
   "outputs": [],
   "source": [
    "# creating the ANN modele\n",
    "model = Sequential()"
   ]
  },
  {
   "cell_type": "code",
   "execution_count": 15,
   "id": "burning-mayor",
   "metadata": {
    "ExecuteTime": {
     "end_time": "2024-01-26T05:01:56.521100Z",
     "start_time": "2024-01-26T05:01:56.381191Z"
    }
   },
   "outputs": [],
   "source": [
    "model.add(Dense(10,activation='relu',input_dim=4))\n",
    "model.add(Dense(10,activation='relu'))\n",
    "model.add(Dense(1,activation='linear'))"
   ]
  },
  {
   "cell_type": "code",
   "execution_count": 27,
   "id": "complicated-profit",
   "metadata": {
    "ExecuteTime": {
     "end_time": "2024-01-26T05:53:06.436566Z",
     "start_time": "2024-01-26T05:53:06.334544Z"
    }
   },
   "outputs": [],
   "source": [
    "model.compile(loss=\"mean_squared_error\",optimizer='Adam')"
   ]
  },
  {
   "cell_type": "code",
   "execution_count": 17,
   "id": "corresponding-marine",
   "metadata": {
    "ExecuteTime": {
     "end_time": "2024-01-26T05:02:10.935909Z",
     "start_time": "2024-01-26T05:02:03.470882Z"
    }
   },
   "outputs": [
    {
     "name": "stdout",
     "output_type": "stream",
     "text": [
      "Epoch 1/50\n",
      "52/52 [==============================] - 1s 6ms/step - loss: 15679.9668 - val_loss: 15600.4697\n",
      "Epoch 2/50\n",
      "52/52 [==============================] - 0s 2ms/step - loss: 15506.8604 - val_loss: 15405.9199\n",
      "Epoch 3/50\n",
      "52/52 [==============================] - 0s 2ms/step - loss: 15275.2949 - val_loss: 15120.5420\n",
      "Epoch 4/50\n",
      "52/52 [==============================] - 0s 3ms/step - loss: 14934.1641 - val_loss: 14707.5439\n",
      "Epoch 5/50\n",
      "52/52 [==============================] - 0s 2ms/step - loss: 14447.6592 - val_loss: 14130.4023\n",
      "Epoch 6/50\n",
      "52/52 [==============================] - 0s 2ms/step - loss: 13785.7451 - val_loss: 13368.2510\n",
      "Epoch 7/50\n",
      "52/52 [==============================] - 0s 2ms/step - loss: 12931.3945 - val_loss: 12407.9688\n",
      "Epoch 8/50\n",
      "52/52 [==============================] - 0s 2ms/step - loss: 11873.6592 - val_loss: 11227.2822\n",
      "Epoch 9/50\n",
      "52/52 [==============================] - 0s 3ms/step - loss: 10543.8242 - val_loss: 9730.4229\n",
      "Epoch 10/50\n",
      "52/52 [==============================] - 0s 3ms/step - loss: 8939.4590 - val_loss: 7995.4668\n",
      "Epoch 11/50\n",
      "52/52 [==============================] - 0s 2ms/step - loss: 7139.9810 - val_loss: 6161.3843\n",
      "Epoch 12/50\n",
      "52/52 [==============================] - 0s 2ms/step - loss: 5357.6807 - val_loss: 4458.1030\n",
      "Epoch 13/50\n",
      "52/52 [==============================] - 0s 2ms/step - loss: 3777.9336 - val_loss: 3032.1833\n",
      "Epoch 14/50\n",
      "52/52 [==============================] - 0s 2ms/step - loss: 2521.8303 - val_loss: 1961.8983\n",
      "Epoch 15/50\n",
      "52/52 [==============================] - 0s 2ms/step - loss: 1629.7289 - val_loss: 1265.3779\n",
      "Epoch 16/50\n",
      "52/52 [==============================] - 0s 3ms/step - loss: 1073.8895 - val_loss: 863.6072\n",
      "Epoch 17/50\n",
      "52/52 [==============================] - 0s 3ms/step - loss: 771.6512 - val_loss: 664.5101\n",
      "Epoch 18/50\n",
      "52/52 [==============================] - 0s 2ms/step - loss: 625.8821 - val_loss: 576.1600\n",
      "Epoch 19/50\n",
      "52/52 [==============================] - 0s 2ms/step - loss: 559.6129 - val_loss: 534.9825\n",
      "Epoch 20/50\n",
      "52/52 [==============================] - 0s 3ms/step - loss: 527.2093 - val_loss: 514.2523\n",
      "Epoch 21/50\n",
      "52/52 [==============================] - 0s 2ms/step - loss: 507.7275 - val_loss: 499.3665\n",
      "Epoch 22/50\n",
      "52/52 [==============================] - 0s 2ms/step - loss: 493.2668 - val_loss: 486.7935\n",
      "Epoch 23/50\n",
      "52/52 [==============================] - 0s 2ms/step - loss: 480.1523 - val_loss: 474.2754\n",
      "Epoch 24/50\n",
      "52/52 [==============================] - 0s 3ms/step - loss: 467.5606 - val_loss: 462.6112\n",
      "Epoch 25/50\n",
      "52/52 [==============================] - 0s 2ms/step - loss: 456.2383 - val_loss: 450.5115\n",
      "Epoch 26/50\n",
      "52/52 [==============================] - 0s 2ms/step - loss: 443.7145 - val_loss: 438.4348\n",
      "Epoch 27/50\n",
      "52/52 [==============================] - 0s 3ms/step - loss: 432.3431 - val_loss: 427.0914\n",
      "Epoch 28/50\n",
      "52/52 [==============================] - 0s 2ms/step - loss: 421.0011 - val_loss: 416.0973\n",
      "Epoch 29/50\n",
      "52/52 [==============================] - 0s 2ms/step - loss: 410.0018 - val_loss: 404.4044\n",
      "Epoch 30/50\n",
      "52/52 [==============================] - 0s 3ms/step - loss: 399.1609 - val_loss: 394.3938\n",
      "Epoch 31/50\n",
      "52/52 [==============================] - 0s 3ms/step - loss: 388.7593 - val_loss: 383.7408\n",
      "Epoch 32/50\n",
      "52/52 [==============================] - 0s 4ms/step - loss: 378.5981 - val_loss: 374.1677\n",
      "Epoch 33/50\n",
      "52/52 [==============================] - 0s 3ms/step - loss: 369.0447 - val_loss: 364.1258\n",
      "Epoch 34/50\n",
      "52/52 [==============================] - 0s 2ms/step - loss: 359.1743 - val_loss: 354.1576\n",
      "Epoch 35/50\n",
      "52/52 [==============================] - 0s 2ms/step - loss: 350.0838 - val_loss: 345.6477\n",
      "Epoch 36/50\n",
      "52/52 [==============================] - 0s 2ms/step - loss: 340.6241 - val_loss: 336.4372\n",
      "Epoch 37/50\n",
      "52/52 [==============================] - 0s 2ms/step - loss: 331.8836 - val_loss: 327.4966\n",
      "Epoch 38/50\n",
      "52/52 [==============================] - 0s 3ms/step - loss: 322.9555 - val_loss: 318.7398\n",
      "Epoch 39/50\n",
      "52/52 [==============================] - 0s 2ms/step - loss: 314.9384 - val_loss: 311.0638\n",
      "Epoch 40/50\n",
      "52/52 [==============================] - 0s 2ms/step - loss: 306.5073 - val_loss: 302.7750\n",
      "Epoch 41/50\n",
      "52/52 [==============================] - 0s 2ms/step - loss: 298.6463 - val_loss: 294.5593\n",
      "Epoch 42/50\n",
      "52/52 [==============================] - 0s 2ms/step - loss: 290.5444 - val_loss: 287.3327\n",
      "Epoch 43/50\n",
      "52/52 [==============================] - 0s 3ms/step - loss: 282.9416 - val_loss: 279.6174\n",
      "Epoch 44/50\n",
      "52/52 [==============================] - 0s 2ms/step - loss: 275.6445 - val_loss: 272.6533\n",
      "Epoch 45/50\n",
      "52/52 [==============================] - 0s 3ms/step - loss: 268.3024 - val_loss: 264.7097\n",
      "Epoch 46/50\n",
      "52/52 [==============================] - 0s 3ms/step - loss: 261.5112 - val_loss: 258.5406\n",
      "Epoch 47/50\n",
      "52/52 [==============================] - 0s 3ms/step - loss: 254.4307 - val_loss: 252.0599\n",
      "Epoch 48/50\n",
      "52/52 [==============================] - 0s 2ms/step - loss: 247.7263 - val_loss: 245.3757\n",
      "Epoch 49/50\n",
      "52/52 [==============================] - 0s 2ms/step - loss: 241.5960 - val_loss: 239.4203\n",
      "Epoch 50/50\n",
      "52/52 [==============================] - 0s 3ms/step - loss: 234.8318 - val_loss: 232.0544\n"
     ]
    }
   ],
   "source": [
    "history = model.fit(X_train_scaled,y_train,epochs=50,validation_split=0.1)"
   ]
  },
  {
   "cell_type": "code",
   "execution_count": 28,
   "id": "natural-packet",
   "metadata": {
    "ExecuteTime": {
     "end_time": "2024-01-26T05:53:36.753929Z",
     "start_time": "2024-01-26T05:53:36.162435Z"
    }
   },
   "outputs": [
    {
     "name": "stdout",
     "output_type": "stream",
     "text": [
      "15/15 [==============================] - 0s 2ms/step\n"
     ]
    }
   ],
   "source": [
    "y_pred = model.predict(X_test_scaled)"
   ]
  },
  {
   "cell_type": "code",
   "execution_count": 29,
   "id": "moral-begin",
   "metadata": {
    "ExecuteTime": {
     "end_time": "2024-01-26T05:53:42.083568Z",
     "start_time": "2024-01-26T05:53:42.076353Z"
    }
   },
   "outputs": [],
   "source": [
    "from sklearn.metrics import r2_score"
   ]
  },
  {
   "cell_type": "code",
   "execution_count": 30,
   "id": "agricultural-apartment",
   "metadata": {
    "ExecuteTime": {
     "end_time": "2024-01-26T05:53:45.939142Z",
     "start_time": "2024-01-26T05:53:45.912954Z"
    }
   },
   "outputs": [
    {
     "data": {
      "text/plain": [
       "0.6044285343634572"
      ]
     },
     "execution_count": 30,
     "metadata": {},
     "output_type": "execute_result"
    }
   ],
   "source": [
    "r2_score(y_test,y_pred)"
   ]
  },
  {
   "cell_type": "code",
   "execution_count": null,
   "id": "50a95fee",
   "metadata": {},
   "outputs": [],
   "source": []
  }
 ],
 "metadata": {
  "kernelspec": {
   "display_name": "Python 3 (ipykernel)",
   "language": "python",
   "name": "python3"
  },
  "language_info": {
   "codemirror_mode": {
    "name": "ipython",
    "version": 3
   },
   "file_extension": ".py",
   "mimetype": "text/x-python",
   "name": "python",
   "nbconvert_exporter": "python",
   "pygments_lexer": "ipython3",
   "version": "3.10.9"
  }
 },
 "nbformat": 4,
 "nbformat_minor": 5
}
